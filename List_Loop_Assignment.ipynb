{
 "cells": [
  {
   "cell_type": "markdown",
   "id": "a4833ce6",
   "metadata": {},
   "source": [
    "# List Programs:"
   ]
  },
  {
   "cell_type": "markdown",
   "id": "090fd7fa",
   "metadata": {},
   "source": [
    "1. Write a program that accepts a list from user and print the alternate element of list"
   ]
  },
  {
   "cell_type": "code",
   "execution_count": 4,
   "id": "a2e4e31d",
   "metadata": {},
   "outputs": [
    {
     "name": "stdout",
     "output_type": "stream",
     "text": [
      "Enter elements of the list separated by space: 1 2 3 4  5  6  7 8 9 \n",
      "Alternate elements of the list:\n",
      "1\n",
      "3\n",
      "5\n",
      "7\n",
      "9\n"
     ]
    }
   ],
   "source": [
    "# Accepting a list from the user\n",
    "user_list = input(\"Enter elements of the list separated by space: \").split()\n",
    "\n",
    "# Printing alternate elements of the list\n",
    "print(\"Alternate elements of the list:\")\n",
    "for i in range(0, len(user_list), 2):\n",
    "    print(user_list[i])\n"
   ]
  },
  {
   "cell_type": "markdown",
   "id": "2efc6e57",
   "metadata": {},
   "source": [
    "2. Write a program that accepts a list from user. Your program should reverse the content of list and display it. Do not use reverse() method."
   ]
  },
  {
   "cell_type": "code",
   "execution_count": 7,
   "id": "fe1c9de6",
   "metadata": {},
   "outputs": [
    {
     "name": "stdout",
     "output_type": "stream",
     "text": [
      "Enter elements of the list separated by space: 4 5 6 9 12 1 3 0 50\n",
      "Reversed list:\n",
      "['50', '0', '3', '1', '12', '9', '6', '5', '4']\n"
     ]
    }
   ],
   "source": [
    "# Accepting a list from the user\n",
    "user_list = input(\"Enter elements of the list separated by space: \").split()\n",
    "\n",
    "# Reversing the content of the list\n",
    "reversed_list = []\n",
    "for i in range(len(user_list) - 1, -1, -1):\n",
    "    reversed_list.append(user_list[i])\n",
    "\n",
    "# Displaying the reversed list\n",
    "print(\"Reversed list:\")\n",
    "print(reversed_list)\n"
   ]
  },
  {
   "cell_type": "markdown",
   "id": "57db0110",
   "metadata": {},
   "source": [
    "3. Find and display the largest number of a list without using built-in function max(). Your program should ask the user to input values "
   ]
  },
  {
   "cell_type": "code",
   "execution_count": 4,
   "id": "10005ba3",
   "metadata": {},
   "outputs": [
    {
     "name": "stdout",
     "output_type": "stream",
     "text": [
      "Enter a value (or 'done' to finish): 1 2 3 4 5 6 7 89 \n",
      "Enter a value (or 'done' to finish): 23 56 44\n",
      "Enter a value (or 'done' to finish): done\n",
      "The largest number in the list is: 89.0\n"
     ]
    }
   ],
   "source": [
    "# Ask the user to input values until they enter 'done'\n",
    "user_list = []\n",
    "while True:\n",
    "    value = input(\"Enter a value (or 'done' to finish): \")\n",
    "    if value.lower() == 'done':\n",
    "        break\n",
    "    # Split the input string into individual values and append them to the list\n",
    "    values = value.split()\n",
    "    for val in values:\n",
    "        user_list.append(float(val))\n",
    "\n",
    "# Initialize the largest number variable\n",
    "largest_number = user_list[0]\n",
    "\n",
    "# Iterate through the list to find the largest number\n",
    "for num in user_list:\n",
    "    if num > largest_number:\n",
    "        largest_number = num\n",
    "\n",
    "# Display the largest number\n",
    "print(\"The largest number in the list is:\", largest_number)\n"
   ]
  },
  {
   "cell_type": "markdown",
   "id": "5041948e",
   "metadata": {},
   "source": [
    "4. Write a program that rotates the element of a list so that the element at the first index moves to the second index, the element in the second index moves to the third index, etc., and the element in the last index moves to the first index. \n"
   ]
  },
  {
   "cell_type": "code",
   "execution_count": 5,
   "id": "e4ab4a17",
   "metadata": {},
   "outputs": [
    {
     "name": "stdout",
     "output_type": "stream",
     "text": [
      "Rotated list: [5, 1, 2, 3, 4]\n"
     ]
    }
   ],
   "source": [
    "my_list = [1, 2, 3, 4, 5]\n",
    "\n",
    "# Rotate the list\n",
    "my_list.insert(0, my_list.pop())\n",
    "\n",
    "# Display the rotated list\n",
    "print(\"Rotated list:\", my_list)\n"
   ]
  },
  {
   "cell_type": "markdown",
   "id": "cec20d5e",
   "metadata": {},
   "source": [
    "5.Write a program that input a string and ask user to delete a given word from a string. "
   ]
  },
  {
   "cell_type": "code",
   "execution_count": 7,
   "id": "ce670364",
   "metadata": {},
   "outputs": [
    {
     "name": "stdout",
     "output_type": "stream",
     "text": [
      "Enter a string: encyclopedia\n",
      "Enter the character to delete: c\n",
      "Resulting string after deleting 'c': enylopedia\n"
     ]
    }
   ],
   "source": [
    "# Input a string from the user\n",
    "input_string = input(\"Enter a string: \")\n",
    "\n",
    "# Input a character to delete from the string\n",
    "char_to_delete = input(\"Enter the character to delete: \")\n",
    "\n",
    "# Remove the given character from the string\n",
    "result_string = input_string.replace(char_to_delete, '')\n",
    "\n",
    "# Display the resulting string\n",
    "print(\"Resulting string after deleting '{}':\".format(char_to_delete), result_string)\n"
   ]
  },
  {
   "cell_type": "markdown",
   "id": "b9dc2508",
   "metadata": {},
   "source": [
    "6. Write a program that reads a string from the user containing a date in the form mm/dd/yyyy. It should print the date in the form March 12, 2021\n"
   ]
  },
  {
   "cell_type": "code",
   "execution_count": 9,
   "id": "d7ab1c22",
   "metadata": {},
   "outputs": [
    {
     "name": "stdout",
     "output_type": "stream",
     "text": [
      "Enter a date (in the format mm/dd/yyyy): 11/15/2003\n",
      "November 15, 2003\n"
     ]
    }
   ],
   "source": [
    "# Input a date string from the user\n",
    "date_string = input(\"Enter a date (in the format mm/dd/yyyy): \")\n",
    "\n",
    "# Split the date string into month, day, and year\n",
    "month, day, year = date_string.split('/')\n",
    "\n",
    "# Convert month from numeric to its corresponding name\n",
    "months = ['January', 'February', 'March', 'April', 'May', 'June', 'July',\n",
    "          'August', 'September', 'October', 'November', 'December']\n",
    "month_name = months[int(month) - 1]\n",
    "\n",
    "# Print the date in the desired format\n",
    "print(month_name, day + ',', year)\n"
   ]
  },
  {
   "cell_type": "markdown",
   "id": "9cd9327a",
   "metadata": {},
   "source": [
    "7. Write a program with a function that accepts a string from keyboard and create a new string after converting character of each word capitalized. For instance, if the sentence is \"stop and smell the roses.\" the output should be \"Stop And Smell The Roses\" \n"
   ]
  },
  {
   "cell_type": "code",
   "execution_count": 10,
   "id": "c2dec9f4",
   "metadata": {},
   "outputs": [
    {
     "name": "stdout",
     "output_type": "stream",
     "text": [
      "Enter a sentence: a piece of cake\n",
      "Capitalized sentence: A Piece Of Cake\n"
     ]
    }
   ],
   "source": [
    "def capitalize_words(sentence):\n",
    "    # Split the sentence into words\n",
    "    words = sentence.split()\n",
    "    \n",
    "    # Capitalize the first character of each word and join them back into a string\n",
    "    capitalized_sentence = ' '.join(word.capitalize() for word in words)\n",
    "    \n",
    "    return capitalized_sentence\n",
    "\n",
    "# Input a sentence from the user\n",
    "sentence = input(\"Enter a sentence: \")\n",
    "\n",
    "# Call the function to capitalize the words in the sentence\n",
    "result = capitalize_words(sentence)\n",
    "\n",
    "# Display the result\n",
    "print(\"Capitalized sentence:\", result)\n"
   ]
  },
  {
   "cell_type": "markdown",
   "id": "802da316",
   "metadata": {},
   "source": [
    "8. Find the sum of each row of matrix of size m x n. For example for the following matrix output will be like this: 2117 12 52915 Sum of row 1 = 32 Sum of row 2 = 31 Sum of row 3 = 63 \n"
   ]
  },
  {
   "cell_type": "code",
   "execution_count": 14,
   "id": "098dd46d",
   "metadata": {},
   "outputs": [
    {
     "name": "stdout",
     "output_type": "stream",
     "text": [
      "Sum of row 1 = 50\n",
      "Sum of row 2 = 49\n",
      "Sum of row 3 = 59\n"
     ]
    }
   ],
   "source": [
    "# Input matrix\n",
    "matrix = [\n",
    "    [21, 17, 12],\n",
    "    [5, 29, 15],\n",
    "    [14, 23, 22]\n",
    "]\n",
    "\n",
    "# Calculate and print sum of each row\n",
    "for i, row in enumerate(matrix, start=1):\n",
    "    row_sum = sum(row)\n",
    "    print(\"Sum of row {} = {}\".format(i, row_sum))\n"
   ]
  },
  {
   "cell_type": "markdown",
   "id": "a4b5bff9",
   "metadata": {},
   "source": [
    "9. Write a program to add two matrices of size n x m. "
   ]
  },
  {
   "cell_type": "code",
   "execution_count": 16,
   "id": "58e07369",
   "metadata": {},
   "outputs": [
    {
     "name": "stdout",
     "output_type": "stream",
     "text": [
      "Enter the number of rows: 2\n",
      "Enter the number of columns: 3\n",
      "Enter elements of first matrix:\n",
      "1\n",
      "2\n",
      "4\n",
      "3\n",
      "5\n",
      "6\n",
      "\n",
      "Enter elements of second matrix:\n",
      "22\n",
      "33\n",
      "12\n",
      "7\n",
      "8\n",
      "9\n",
      "\n",
      "Resultant matrix after addition:\n",
      "[23, 35, 16]\n",
      "[10, 13, 15]\n"
     ]
    }
   ],
   "source": [
    "# Input size of matrices\n",
    "n = int(input(\"Enter the number of rows: \"))\n",
    "m = int(input(\"Enter the number of columns: \"))\n",
    "\n",
    "# Input first matrix\n",
    "print(\"Enter elements of first matrix:\")\n",
    "matrix1 = [[int(input()) for j in range(m)] for i in range(n)]\n",
    "\n",
    "# Input second matrix\n",
    "print(\"\\nEnter elements of second matrix:\")\n",
    "matrix2 = [[int(input()) for j in range(m)] for i in range(n)]\n",
    "\n",
    "# Add the matrices\n",
    "result_matrix = [[matrix1[i][j] + matrix2[i][j] for j in range(m)] for i in range(n)]\n",
    "\n",
    "# Print the result\n",
    "print(\"\\nResultant matrix after addition:\")\n",
    "for row in result_matrix:\n",
    "    print(row)\n"
   ]
  },
  {
   "cell_type": "markdown",
   "id": "094a6040",
   "metadata": {},
   "source": [
    "10. Write a program to multiply two matrices "
   ]
  },
  {
   "cell_type": "code",
   "execution_count": 17,
   "id": "e89722f8",
   "metadata": {},
   "outputs": [
    {
     "name": "stdout",
     "output_type": "stream",
     "text": [
      "Enter the number of rows for first matrix: 2\n",
      "Enter the number of columns for first matrix: 3\n",
      "Enter elements of first matrix:\n",
      "1\n",
      "2\n",
      "3\n",
      "4\n",
      "5\n",
      "6\n",
      "Enter the number of rows for second matrix: 2\n",
      "Enter the number of columns for second matrix: 2\n",
      "Enter elements of second matrix:\n",
      "1\n",
      "2\n",
      "6\n",
      "7\n",
      "Multiplication is not possible.\n"
     ]
    }
   ],
   "source": [
    "# Input size of first matrix\n",
    "n1 = int(input(\"Enter the number of rows for first matrix: \"))\n",
    "m1 = int(input(\"Enter the number of columns for first matrix: \"))\n",
    "\n",
    "# Input elements of first matrix\n",
    "print(\"Enter elements of first matrix:\")\n",
    "matrix1 = [[int(input()) for _ in range(m1)] for _ in range(n1)]\n",
    "\n",
    "# Input size of second matrix\n",
    "n2 = int(input(\"Enter the number of rows for second matrix: \"))\n",
    "m2 = int(input(\"Enter the number of columns for second matrix: \"))\n",
    "\n",
    "# Input elements of second matrix\n",
    "print(\"Enter elements of second matrix:\")\n",
    "matrix2 = [[int(input()) for _ in range(m2)] for _ in range(n2)]\n",
    "\n",
    "# Check if multiplication is possible\n",
    "if m1 != n2:\n",
    "    print(\"Multiplication is not possible.\")\n",
    "else:\n",
    "    # Multiply matrices\n",
    "    result_matrix = [[sum(matrix1[i][k] * matrix2[k][j] for k in range(m1)) for j in range(m2)] for i in range(n1)]\n",
    "    \n",
    "    # Print the result\n",
    "    print(\"\\nResultant matrix after multiplication:\")\n",
    "    for row in result_matrix:\n",
    "        print(row)\n"
   ]
  },
  {
   "cell_type": "markdown",
   "id": "9f4be6dd",
   "metadata": {},
   "source": [
    "# Loops :"
   ]
  },
  {
   "cell_type": "markdown",
   "id": "6680135e",
   "metadata": {},
   "source": [
    "1. Write a Python program to print the numbers from 1 to 10 using a for loop. "
   ]
  },
  {
   "cell_type": "code",
   "execution_count": 18,
   "id": "c86bb384",
   "metadata": {},
   "outputs": [
    {
     "name": "stdout",
     "output_type": "stream",
     "text": [
      "1\n",
      "2\n",
      "3\n",
      "4\n",
      "5\n",
      "6\n",
      "7\n",
      "8\n",
      "9\n",
      "10\n"
     ]
    }
   ],
   "source": [
    "# Using a for loop to print numbers from 1 to 10\n",
    "for num in range(1, 11):\n",
    "    print(num)\n"
   ]
  },
  {
   "cell_type": "markdown",
   "id": "bc5dea6d",
   "metadata": {},
   "source": [
    "2. Write a Python program to print the numbers from 20 to 1 using a while loop. "
   ]
  },
  {
   "cell_type": "code",
   "execution_count": 19,
   "id": "f0d9e431",
   "metadata": {},
   "outputs": [
    {
     "name": "stdout",
     "output_type": "stream",
     "text": [
      "20\n",
      "19\n",
      "18\n",
      "17\n",
      "16\n",
      "15\n",
      "14\n",
      "13\n",
      "12\n",
      "11\n",
      "10\n",
      "9\n",
      "8\n",
      "7\n",
      "6\n",
      "5\n",
      "4\n",
      "3\n",
      "2\n",
      "1\n"
     ]
    }
   ],
   "source": [
    "# Initialize a variable to start from 20\n",
    "num = 20\n",
    "\n",
    "# Using a while loop to print numbers from 20 to 1\n",
    "while num >= 1:\n",
    "    print(num)\n",
    "    num -= 1\n"
   ]
  },
  {
   "cell_type": "markdown",
   "id": "20f70a15",
   "metadata": {},
   "source": [
    "3. Write a program to print even numbers from 1 to 10. "
   ]
  },
  {
   "cell_type": "code",
   "execution_count": 20,
   "id": "eccd0d31",
   "metadata": {},
   "outputs": [
    {
     "name": "stdout",
     "output_type": "stream",
     "text": [
      "2\n",
      "4\n",
      "6\n",
      "8\n",
      "10\n"
     ]
    }
   ],
   "source": [
    "# Using a for loop to print even numbers from 1 to 10\n",
    "for num in range(2, 11, 2):\n",
    "    print(num)\n"
   ]
  },
  {
   "cell_type": "markdown",
   "id": "335a54ff",
   "metadata": {},
   "source": [
    "4. Write a program that prompts the user to enter a number n and prints all the numbers from 1 to n. "
   ]
  },
  {
   "cell_type": "code",
   "execution_count": 21,
   "id": "c938f697",
   "metadata": {},
   "outputs": [
    {
     "name": "stdout",
     "output_type": "stream",
     "text": [
      "Enter a number: 15\n",
      "1\n",
      "2\n",
      "3\n",
      "4\n",
      "5\n",
      "6\n",
      "7\n",
      "8\n",
      "9\n",
      "10\n",
      "11\n",
      "12\n",
      "13\n",
      "14\n",
      "15\n"
     ]
    }
   ],
   "source": [
    "# Prompt the user to enter a number\n",
    "n = int(input(\"Enter a number: \"))\n",
    "\n",
    "# Using a for loop to print numbers from 1 to n\n",
    "for num in range(1, n + 1):\n",
    "    print(num)\n"
   ]
  },
  {
   "cell_type": "markdown",
   "id": "3bfae538",
   "metadata": {},
   "source": [
    "5. Write a program that prompts the user to enter a number n, and then prints all the odd numbers between 1 and n. "
   ]
  },
  {
   "cell_type": "code",
   "execution_count": 22,
   "id": "46faef13",
   "metadata": {},
   "outputs": [
    {
     "name": "stdout",
     "output_type": "stream",
     "text": [
      "Enter a number: 20\n",
      "Odd numbers between 1 and 20:\n",
      "1\n",
      "3\n",
      "5\n",
      "7\n",
      "9\n",
      "11\n",
      "13\n",
      "15\n",
      "17\n",
      "19\n"
     ]
    }
   ],
   "source": [
    "# Prompt the user to enter a number\n",
    "n = int(input(\"Enter a number: \"))\n",
    "\n",
    "# Using a for loop to print odd numbers from 1 to n\n",
    "print(\"Odd numbers between 1 and {}:\".format(n))\n",
    "for num in range(1, n + 1, 2):\n",
    "    print(num)\n"
   ]
  },
  {
   "cell_type": "markdown",
   "id": "1506cecf",
   "metadata": {},
   "source": [
    "6. Write a program that prints 'Happy Birthday!' five times on screen"
   ]
  },
  {
   "cell_type": "code",
   "execution_count": 23,
   "id": "43fc44a8",
   "metadata": {},
   "outputs": [
    {
     "name": "stdout",
     "output_type": "stream",
     "text": [
      "Happy Birthday!\n",
      "Happy Birthday!\n",
      "Happy Birthday!\n",
      "Happy Birthday!\n",
      "Happy Birthday!\n"
     ]
    }
   ],
   "source": [
    "# Using a for loop to print 'Happy Birthday!' five times\n",
    "for _ in range(5):\n",
    "    print('Happy Birthday!')\n"
   ]
  },
  {
   "cell_type": "markdown",
   "id": "dd6451c9",
   "metadata": {},
   "source": [
    "7. Write a program that takes a number n as input from the user and generates the first n terms of the series formed by squaring the natural numbers. Sample output Enter a number: 6 The first 6 terms of the series are: 149 16 25 36 \n"
   ]
  },
  {
   "cell_type": "code",
   "execution_count": 25,
   "id": "6f0d0d3f",
   "metadata": {},
   "outputs": [
    {
     "name": "stdout",
     "output_type": "stream",
     "text": [
      "Enter a number: 24\n",
      "The first 24 terms of the series are: 1 4 9 16 25 36 49 64 81 100 121 144 169 196 225 256 289 324 361 400 441 484 529 576 "
     ]
    }
   ],
   "source": [
    "# Take input from the user\n",
    "n = int(input(\"Enter a number: \"))\n",
    "\n",
    "# Generate the series by squaring the natural numbers\n",
    "series = [i ** 2 for i in range(1, n + 1)]\n",
    "\n",
    "# Print the series\n",
    "print(\"The first {} terms of the series are:\".format(n), end=\" \")\n",
    "for term in series:\n",
    "    print(term, end=\" \")\n"
   ]
  },
  {
   "cell_type": "markdown",
   "id": "32358ebf",
   "metadata": {},
   "source": [
    "7. Write a program that prompts the user to input a number and prints its multiplication table. "
   ]
  },
  {
   "cell_type": "code",
   "execution_count": 26,
   "id": "630c7013",
   "metadata": {},
   "outputs": [
    {
     "name": "stdout",
     "output_type": "stream",
     "text": [
      "Enter a number: 5\n",
      "Multiplication table for 5:\n",
      "5 x 1 = 5\n",
      "5 x 2 = 10\n",
      "5 x 3 = 15\n",
      "5 x 4 = 20\n",
      "5 x 5 = 25\n",
      "5 x 6 = 30\n",
      "5 x 7 = 35\n",
      "5 x 8 = 40\n",
      "5 x 9 = 45\n",
      "5 x 10 = 50\n"
     ]
    }
   ],
   "source": [
    "# Prompt the user to input a number\n",
    "number = int(input(\"Enter a number: \"))\n",
    "\n",
    "# Print the multiplication table\n",
    "print(\"Multiplication table for {}:\".format(number))\n",
    "for i in range(1, 11):\n",
    "    print(\"{} x {} = {}\".format(number, i, number * i))\n"
   ]
  },
  {
   "cell_type": "markdown",
   "id": "f30fa8f6",
   "metadata": {},
   "source": [
    "8. Write a Python program to print the first 8 terms of an arithmetic progression starting with 3 and having a common difference of 4. The program should output the following sequence: 3 7 11 15 19 23 27 31 \n"
   ]
  },
  {
   "cell_type": "code",
   "execution_count": 27,
   "id": "c68bcef6",
   "metadata": {},
   "outputs": [
    {
     "name": "stdout",
     "output_type": "stream",
     "text": [
      "The first 8 terms of the arithmetic progression:\n",
      "3 7 11 15 19 23 27 31 "
     ]
    }
   ],
   "source": [
    "# Define the starting term and common difference\n",
    "start_term = 3\n",
    "common_difference = 4\n",
    "\n",
    "# Print the first 8 terms of the arithmetic progression\n",
    "print(\"The first 8 terms of the arithmetic progression:\")\n",
    "for i in range(8):\n",
    "    term = start_term + i * common_difference\n",
    "    print(term, end=\" \")\n"
   ]
  },
  {
   "cell_type": "markdown",
   "id": "891fafa2",
   "metadata": {},
   "source": [
    "9. Write a Python program to print the first 6 terms of a geometric sequence starting with 2 and having a common ratio of 3. The program should output the following sequence: 2 6 18 54 162 486 \n"
   ]
  },
  {
   "cell_type": "code",
   "execution_count": 28,
   "id": "e1abea89",
   "metadata": {},
   "outputs": [
    {
     "name": "stdout",
     "output_type": "stream",
     "text": [
      "The first 6 terms of the geometric sequence:\n",
      "2 6 18 54 162 486 "
     ]
    }
   ],
   "source": [
    "# Define the starting term and common ratio\n",
    "start_term = 2\n",
    "common_ratio = 3\n",
    "\n",
    "# Print the first 6 terms of the geometric sequence\n",
    "print(\"The first 6 terms of the geometric sequence:\")\n",
    "term = start_term\n",
    "for _ in range(6):\n",
    "    print(term, end=\" \")\n",
    "    term *= common_ratio\n"
   ]
  },
  {
   "cell_type": "markdown",
   "id": "e84eb973",
   "metadata": {},
   "source": [
    "10. Write a program that asks the user for a positive integer value. The program should calculate the sum of all the integers from 1 up to the number entered. For example, if the user enters 20, the loop will find the sum of 1, 2, 3, 4, 20. \n"
   ]
  },
  {
   "cell_type": "code",
   "execution_count": 29,
   "id": "66fbbc40",
   "metadata": {},
   "outputs": [
    {
     "name": "stdout",
     "output_type": "stream",
     "text": [
      "Enter a positive integer: 35\n",
      "The sum of all integers from 1 to 35 is: 630\n"
     ]
    }
   ],
   "source": [
    "# Ask the user for a positive integer value\n",
    "num = int(input(\"Enter a positive integer: \"))\n",
    "\n",
    "# Initialize sum\n",
    "total_sum = 0\n",
    "\n",
    "# Calculate the sum of all integers from 1 up to the number entered\n",
    "for i in range(1, num + 1):\n",
    "    total_sum += i\n",
    "\n",
    "# Print the result\n",
    "print(\"The sum of all integers from 1 to {} is: {}\".format(num, total_sum))\n"
   ]
  },
  {
   "cell_type": "markdown",
   "id": "d41708a4",
   "metadata": {},
   "source": [
    "11. write a program that takes a positive integer N as input and calculates the sum of the reciprocals of all numbers from 1 up to N. The program should display the final sum. Output of the program should be like: Enter a positive integer: 5 The sum of reciprocals from 1 to 5 is: 2.28 \n"
   ]
  },
  {
   "cell_type": "code",
   "execution_count": 30,
   "id": "21f644c1",
   "metadata": {},
   "outputs": [
    {
     "name": "stdout",
     "output_type": "stream",
     "text": [
      "Enter a positive integer: 9\n",
      "The sum of reciprocals from 1 to 9 is: 2.83\n"
     ]
    }
   ],
   "source": [
    "# Ask the user for a positive integer value\n",
    "N = int(input(\"Enter a positive integer: \"))\n",
    "\n",
    "# Initialize sum\n",
    "total_sum = 0\n",
    "\n",
    "# Calculate the sum of reciprocals from 1 up to N\n",
    "for i in range(1, N + 1):\n",
    "    total_sum += 1 / i\n",
    "\n",
    "# Print the result\n",
    "print(\"The sum of reciprocals from 1 to {} is: {:.2f}\".format(N, total_sum))\n"
   ]
  },
  {
   "cell_type": "markdown",
   "id": "4e88944a",
   "metadata": {},
   "source": [
    "12. Write a program that prompts the user to enter a number and repeats this process 5 times. The program should accumulate the numbers entered and then display the final running total. Sample Output: Enter a number: 10 Enter a number: 15 Enter a number: 35 Enter a number: 40 Enter a number: 50 The final running total is: 150 \n"
   ]
  },
  {
   "cell_type": "code",
   "execution_count": 31,
   "id": "840f5738",
   "metadata": {},
   "outputs": [
    {
     "name": "stdout",
     "output_type": "stream",
     "text": [
      "Enter a number: 6\n",
      "Enter a number: 12\n",
      "Enter a number: 22\n",
      "Enter a number: 89\n",
      "Enter a number: 45\n",
      "The final running total is: 174\n"
     ]
    }
   ],
   "source": [
    "# Initialize running total\n",
    "running_total = 0\n",
    "\n",
    "# Repeat the process 5 times\n",
    "for _ in range(5):\n",
    "    # Ask the user to enter a number\n",
    "    number = int(input(\"Enter a number: \"))\n",
    "    # Add the number to the running total\n",
    "    running_total += number\n",
    "\n",
    "# Display the final running total\n",
    "print(\"The final running total is:\", running_total)\n"
   ]
  },
  {
   "cell_type": "markdown",
   "id": "51691c88",
   "metadata": {},
   "source": [
    "13. Write a program that prompts the user to enter a positive integer and calculates its factorial. The factorial of a positive integer 'n' is denoted as 'n!' and is calculated by multiplying all the integers from 1 to 'n' together. For example, the factorial of 5 (denoted as 5!) is calculated as 1 x 2 x 3 x 4 x 5. The program should display the factorial value if the input is a positive number, or display a message stating that the factorial does not exist for negative numbers. Additionally, for an input of zero, the program should output that the factorial of 0 is 1. \n"
   ]
  },
  {
   "cell_type": "code",
   "execution_count": 32,
   "id": "a2bab83d",
   "metadata": {},
   "outputs": [
    {
     "name": "stdout",
     "output_type": "stream",
     "text": [
      "Enter a positive integer: 9\n",
      "The factorial of 9 is: 362880\n"
     ]
    }
   ],
   "source": [
    "# Prompt the user to enter a positive integer\n",
    "n = int(input(\"Enter a positive integer: \"))\n",
    "\n",
    "# Check if the input is a positive number\n",
    "if n < 0:\n",
    "    print(\"Factorial does not exist for negative numbers.\")\n",
    "elif n == 0:\n",
    "    print(\"The factorial of 0 is 1.\")\n",
    "else:\n",
    "    # Calculate the factorial\n",
    "    factorial = 1\n",
    "    for i in range(1, n + 1):\n",
    "        factorial *= i\n",
    "    \n",
    "    # Display the factorial value\n",
    "    print(\"The factorial of {} is: {}\".format(n, factorial))\n"
   ]
  },
  {
   "cell_type": "markdown",
   "id": "9198ac8a",
   "metadata": {},
   "source": [
    "14. Write a Python program that prompts the user to enter a base number and an exponent, and then calculates the power of the base to the exponent. The program should not use the exponentiation operator (**) or the math.pow() function. The program should handle both positive and negative exponents"
   ]
  },
  {
   "cell_type": "code",
   "execution_count": 33,
   "id": "fe87cdf6",
   "metadata": {},
   "outputs": [
    {
     "name": "stdout",
     "output_type": "stream",
     "text": [
      "Enter the base number: 4\n",
      "Enter the exponent: 5\n",
      "Result: 1024.0\n"
     ]
    }
   ],
   "source": [
    "# Prompt the user to enter the base number\n",
    "base = float(input(\"Enter the base number: \"))\n",
    "\n",
    "# Prompt the user to enter the exponent\n",
    "exponent = int(input(\"Enter the exponent: \"))\n",
    "\n",
    "# Define a function to calculate power\n",
    "def calculate_power(base, exponent):\n",
    "    # Initialize result to 1\n",
    "    result = 1\n",
    "    # If exponent is positive\n",
    "    if exponent > 0:\n",
    "        # Multiply base by itself exponent times\n",
    "        for _ in range(exponent):\n",
    "            result *= base\n",
    "    # If exponent is negative\n",
    "    elif exponent < 0:\n",
    "        # Multiply 1 by base exponent times\n",
    "        for _ in range(abs(exponent)):\n",
    "            result /= base\n",
    "    return result\n",
    "\n",
    "# Calculate the power and display the result\n",
    "power_result = calculate_power(base, exponent)\n",
    "print(\"Result:\", power_result)\n"
   ]
  },
  {
   "cell_type": "code",
   "execution_count": null,
   "id": "9aa8e572",
   "metadata": {},
   "outputs": [],
   "source": []
  }
 ],
 "metadata": {
  "kernelspec": {
   "display_name": "Python 3 (ipykernel)",
   "language": "python",
   "name": "python3"
  },
  "language_info": {
   "codemirror_mode": {
    "name": "ipython",
    "version": 3
   },
   "file_extension": ".py",
   "mimetype": "text/x-python",
   "name": "python",
   "nbconvert_exporter": "python",
   "pygments_lexer": "ipython3",
   "version": "3.10.9"
  }
 },
 "nbformat": 4,
 "nbformat_minor": 5
}
