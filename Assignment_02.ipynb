{
 "cells": [
  {
   "cell_type": "markdown",
   "metadata": {
    "id": "bb0O0xtk1v9t"
   },
   "source": [
    "## Task 01:\n",
    "\n",
    "Print Your Name with your Father name and Date of birth using suitable escape sequence charactor\n",
    "\n"
   ]
  },
  {
   "cell_type": "code",
   "execution_count": 17,
   "metadata": {
    "id": "U7LLGIkO2Ixa"
   },
   "outputs": [
    {
     "name": "stdout",
     "output_type": "stream",
     "text": [
      "MyName: Hafsa Naz\n",
      "FatherName: Ghulam Asghar\n",
      "D.O.B: 15Nov2003\n"
     ]
    }
   ],
   "source": [
    "# Write your code here\n",
    "print(\"MyName: Hafsa Naz\\nFatherName: Ghulam Asghar\\nD.O.B: 15Nov2003\")"
   ]
  },
  {
   "cell_type": "markdown",
   "metadata": {
    "id": "TU-xwiLV2NgB"
   },
   "source": [
    "# Task 02:\n",
    "\n",
    "Write your small bio using variables and print it using print function"
   ]
  },
  {
   "cell_type": "code",
   "execution_count": 18,
   "metadata": {
    "id": "Dw8w3rwl2wDB"
   },
   "outputs": [
    {
     "name": "stdout",
     "output_type": "stream",
     "text": [
      "Hellooooo! My name is Hafsa Naz.My favourite cartoon is Doraemon.My favourite programming language is Python.\n"
     ]
    }
   ],
   "source": [
    "# Write your code here\n",
    "x=\"Hafsa Naz\"\n",
    "y=\"Doraemon\"\n",
    "z=\"Python\"\n",
    "print(\"Hellooooo! My name is \"+ x + \".\" + \"My favourite cartoon is \" + y + \".\"+ \"My favourite programming language is \" + z + \".\")"
   ]
  },
  {
   "cell_type": "markdown",
   "metadata": {
    "id": "F2lcZuDe2ztv"
   },
   "source": [
    "# Task 03:\n",
    "\n",
    "Write a program in which use all the operators we can use in Python"
   ]
  },
  {
   "cell_type": "code",
   "execution_count": 19,
   "metadata": {
    "id": "lEJhzsXh3e7K"
   },
   "outputs": [
    {
     "name": "stdout",
     "output_type": "stream",
     "text": [
      "Arithmetic Operators:\n",
      "Addition: 73\n",
      "Subtraction: 27\n",
      "Multiplication: 1150\n",
      "Division: 2.1739130434782608\n",
      "Modulus: 4\n",
      "Exponential: 1192092895507812500000000000000000000000\n",
      "Floordivision: 2\n",
      "\n",
      "Comparison Operations:\n",
      "num1 greater than num2: True\n",
      "num1 less than num2: False\n",
      "num1 equal to num2: False\n",
      "num1 not equal to num2: True\n",
      "num1 greater than or equal to num2: True\n",
      "num1 less than or equal to num2: False\n",
      "\n",
      "Assignment Operations:\n",
      "x after adding 2: 7\n",
      "x after subtracting 1: 6\n",
      "x after multiplying by 3: 18\n",
      "x after dividing by 2: 9.0\n",
      "\n",
      "Logical Operations:\n",
      "AND operation: False\n",
      "OR operation: True\n",
      "NOT operation for bool1: False\n",
      "NOT operation for bool2: True\n"
     ]
    }
   ],
   "source": [
    "# Write your code here\n",
    "#variables\n",
    "num1=50\n",
    "num2=23\n",
    "\n",
    "addition=num1+num2\n",
    "subtraction=num1-num2\n",
    "multiply=num1*num2\n",
    "division=num1/num2\n",
    "modulus=num1%num2\n",
    "exponential=num1**num2\n",
    "floordiv=num1//num2\n",
    "\n",
    "#arithmetic operators\n",
    "print(\"Arithmetic Operators:\")\n",
    "print('Addition:',addition)\n",
    "print('Subtraction:',subtraction)\n",
    "print('Multiplication:',multiply)\n",
    "print('Division:',division)\n",
    "print('Modulus:',modulus)\n",
    "print('Exponential:',exponential)\n",
    "print('Floordivision:',floordiv)\n",
    "\n",
    "#comparison operators\n",
    "print(\"\\nComparison Operations:\")\n",
    "print(\"num1 greater than num2:\", num1 > num2)\n",
    "print(\"num1 less than num2:\", num1 < num2)\n",
    "print(\"num1 equal to num2:\", num1 == num2)\n",
    "print(\"num1 not equal to num2:\", num1 != num2)\n",
    "print(\"num1 greater than or equal to num2:\", num1 >= num2)\n",
    "print(\"num1 less than or equal to num2:\", num1 <= num2)\n",
    "\n",
    "# Assignment operators\n",
    "x = 5\n",
    "print(\"\\nAssignment Operations:\")\n",
    "x += 2\n",
    "print(\"x after adding 2:\", x)\n",
    "x -= 1\n",
    "print(\"x after subtracting 1:\", x)\n",
    "x *= 3\n",
    "print(\"x after multiplying by 3:\", x)\n",
    "x /= 2\n",
    "print(\"x after dividing by 2:\", x)\n",
    "\n",
    "# Logical operators\n",
    "bool1 = True\n",
    "bool2 = False\n",
    "\n",
    "print(\"\\nLogical Operations:\")\n",
    "print(\"AND operation:\", bool1 and bool2)\n",
    "print(\"OR operation:\", bool1 or bool2)\n",
    "print(\"NOT operation for bool1:\", not bool1)\n",
    "print(\"NOT operation for bool2:\", not bool2)"
   ]
  },
  {
   "cell_type": "markdown",
   "metadata": {
    "id": "i4N14TJU3l7n"
   },
   "source": [
    "# Task 04:\n",
    "\n",
    "\n",
    "1. Mention Marks of English , Islamiat and Maths out of 100 in 3 different variables\n",
    "\n",
    "2. Mention Variable of Total Marks and assign 300 to it\n",
    "\n",
    "3. Calculate Percentage"
   ]
  },
  {
   "cell_type": "code",
   "execution_count": 20,
   "metadata": {
    "id": "nxojzvRg5PP4"
   },
   "outputs": [
    {
     "name": "stdout",
     "output_type": "stream",
     "text": [
      "51.333333333333336\n"
     ]
    }
   ],
   "source": [
    "# Write your code here\n",
    "engmarks=50\n",
    "islmarks=70\n",
    "mathmarks=34\n",
    "totalmarks=300\n",
    "percentage=((engmarks+islmarks+mathmarks)*100)/totalmarks\n",
    "print(percentage)"
   ]
  }
 ],
 "metadata": {
  "colab": {
   "provenance": []
  },
  "kernelspec": {
   "display_name": "Python 3 (ipykernel)",
   "language": "python",
   "name": "python3"
  },
  "language_info": {
   "codemirror_mode": {
    "name": "ipython",
    "version": 3
   },
   "file_extension": ".py",
   "mimetype": "text/x-python",
   "name": "python",
   "nbconvert_exporter": "python",
   "pygments_lexer": "ipython3",
   "version": "3.10.9"
  }
 },
 "nbformat": 4,
 "nbformat_minor": 1
}
